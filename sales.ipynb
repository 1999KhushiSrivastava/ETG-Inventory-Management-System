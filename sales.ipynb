{
  "nbformat": 4,
  "nbformat_minor": 0,
  "metadata": {
    "colab": {
      "name": "sales.ipynb",
      "provenance": []
    },
    "kernelspec": {
      "name": "python3",
      "display_name": "Python 3"
    },
    "language_info": {
      "name": "python"
    }
  },
  "cells": [
    {
      "cell_type": "code",
      "metadata": {
        "id": "Ld52mgMPCgHK"
      },
      "source": [
        "import json\n",
        "\n",
        "fd = open(\"record.json\",'r')\n",
        "r = fd.read()\n",
        "fd.close()\n",
        "\n",
        "record = json.loads(r)"
      ],
      "execution_count": 31,
      "outputs": []
    },
    {
      "cell_type": "code",
      "metadata": {
        "colab": {
          "base_uri": "https://localhost:8080/"
        },
        "id": "hH3sc-wRDApH",
        "outputId": "f03e1f25-8aa7-4c31-b16b-e82b1b49bbd8"
      },
      "source": [
        "record"
      ],
      "execution_count": 3,
      "outputs": [
        {
          "output_type": "execute_result",
          "data": {
            "text/plain": [
              "{'2314S': {'dis': 10,\n",
              "  'name': 'radio',\n",
              "  'pr': 1500,\n",
              "  'qn': 40,\n",
              "  'quality': 'good'},\n",
              " '23TT4': {'color': 'blue', 'dis': 20, 'name': 'bottle', 'pr': 340, 'qn': 50},\n",
              " '24ABB324W0031010': {'company': 'lloyd',\n",
              "  'dis': 100,\n",
              "  'name': 'AC',\n",
              "  'pr': 60000,\n",
              "  'qn': 80},\n",
              " 'B12G4': {'Quality': 'good', 'dis': 50, 'name': 'bag', 'pr': 750, 'qn': 20},\n",
              " 'B142D': {'color': 'red', 'dis': 50, 'name': 'bed', 'pr': 25000, 'qn': 12},\n",
              " 'B412': {'dis': 10,\n",
              "  'frame': 'rectangular',\n",
              "  'name': 'sceneary',\n",
              "  'pr': 650,\n",
              "  'qn': 60},\n",
              " 'BD92S': {'color': 'red', 'dis': 15, 'name': 'bedsheet', 'pr': 550, 'qn': 35},\n",
              " 'C9-I2': {'compny': 'dairy milk',\n",
              "  'dis': 10,\n",
              "  'name': 'chocolate',\n",
              "  'pr': 230,\n",
              "  'qn': 120},\n",
              " 'E12L': {'company': 'voltas',\n",
              "  'dis': 50,\n",
              "  'name': 'cooler',\n",
              "  'pr': 17000,\n",
              "  'qn': 24},\n",
              " 'E252': {'color': 'red', 'dis': 10, 'name': 'cycle', 'pr': 6000, 'qn': 72},\n",
              " 'ER124': {'color': 'pink',\n",
              "  'dis': 10,\n",
              "  'name': 'earphone',\n",
              "  'pr': 250,\n",
              "  'qn': 50},\n",
              " 'F312': {'company': 'orient',\n",
              "  'dis': 10,\n",
              "  'name': 'fan',\n",
              "  'pr': 1200,\n",
              "  'qn': 100},\n",
              " 'IR13': {'company': 'triveni',\n",
              "  'dis': 30,\n",
              "  'name': 'almirah',\n",
              "  'pr': 26000,\n",
              "  'qn': 22},\n",
              " 'JC50Q-5': {'company': 'swift dezire',\n",
              "  'dis': 200,\n",
              "  'name': 'car',\n",
              "  'pr': 2000000,\n",
              "  'qn': 80},\n",
              " 'JN212': {'color': 'dark blue',\n",
              "  'dis': 50,\n",
              "  'name': 'Jeans',\n",
              "  'pr': 1000,\n",
              "  'qn': 60},\n",
              " 'LEN423': {'color': 'blue',\n",
              "  'discount': 20,\n",
              "  'name': 'sumsung mobile',\n",
              "  'pr': 22000,\n",
              "  'qn': 15},\n",
              " 'P12': {'color': 'blue', 'dis': 10, 'name': 'pot', 'pr': 220, 'qn': 124},\n",
              " 'R0192': {'color': 'blue', 'dis': 20, 'name': 'Tshirt', 'pr': 550, 'qn': 120},\n",
              " 'RA4S': {'company': 'LG', 'dis': 10, 'name': 'tv', 'pr': 27000, 'qn': 20},\n",
              " 'RD34': {'dis': 30,\n",
              "  'name': 'books',\n",
              "  'poetry': 'the heart is lonely',\n",
              "  'pr': 620,\n",
              "  'qn': 12},\n",
              " 'RK4S': {'comapny': 'Hero', 'dis': 30, 'name': 'bike', 'pr': 92000, 'qn': 20},\n",
              " 'RT42T5C5EDX': {'company': 'LG',\n",
              "  'dis': 12,\n",
              "  'name': 'Fridge',\n",
              "  'pr': 2494.89,\n",
              "  'qn': 90},\n",
              " 'S13': {'company': 'bajaj', 'dis': 5, 'name': 'bulb', 'pr': 400, 'qn': 250},\n",
              " 'S21C': {'company': 'pleasure',\n",
              "  'dis': 100,\n",
              "  'name': 'scooty',\n",
              "  'pr': 812640,\n",
              "  'qn': 24},\n",
              " 'SM92S': {'color': 'black',\n",
              "  'dis': 50,\n",
              "  'name': 'laptop ',\n",
              "  'pr': 45000,\n",
              "  'qn': 22},\n",
              " 'SON101': {'dis': 30,\n",
              "  'name': 'Charges',\n",
              "  'pr': 450,\n",
              "  'qn': 62,\n",
              "  'quality': 'good'},\n",
              " 'W21T': {'company': 'sunrise',\n",
              "  'dis': 15,\n",
              "  'name': 'watch',\n",
              "  'pr': 600,\n",
              "  'qn': 240},\n",
              " 'WALTUS': {'dis': 20,\n",
              "  'name': 'Battery',\n",
              "  'pr': 900,\n",
              "  'qn': 40,\n",
              "  'warranty': '2 years'},\n",
              " 'WINDO3': {'dis': 80,\n",
              "  'name': 'sofa',\n",
              "  'pr': 80000,\n",
              "  'qn': 90,\n",
              "  'quality': 'good'},\n",
              " 'WM423': {'company': 'LG',\n",
              "  'dis': 40,\n",
              "  'name': 'washing machine',\n",
              "  'pr': 15000,\n",
              "  'qn': 24}}"
            ]
          },
          "metadata": {},
          "execution_count": 3
        }
      ]
    },
    {
      "cell_type": "code",
      "metadata": {
        "colab": {
          "base_uri": "https://localhost:8080/"
        },
        "id": "P5EjsP7CDIFh",
        "outputId": "3a72c525-a7f3-4074-e265-1b446dc924ac"
      },
      "source": [
        "ui_prod  = str(input(\"Enter the product_Id: \"))\n",
        "ui_quant = int(input(\"Enter the quantity: \"))\n",
        "\n",
        "\n",
        "print(\"Product: \", record[ui_prod]['name'])\n",
        "print(\"Price: \", record[ui_prod]['pr'])\n",
        "print(\"Billing Amount: \", record[ui_prod]['pr'] * ui_quant)\n",
        "\n",
        "print(\"discount: \", record[ui_prod]['dis'])\n",
        "record[ui_prod]['qn'] = record[ui_prod]['qn'] - ui_quant"
      ],
      "execution_count": 26,
      "outputs": [
        {
          "output_type": "stream",
          "name": "stdout",
          "text": [
            "Enter the product_Id: B12G4\n",
            "Enter the quantity: 20\n",
            "Product:  bag\n",
            "Price:  750\n",
            "Billing Amount:  15000\n",
            "discount:  50\n"
          ]
        }
      ]
    },
    {
      "cell_type": "markdown",
      "metadata": {
        "id": "fRSxt-t_J66d"
      },
      "source": [
        "**Update Inventory after purchase**"
      ]
    },
    {
      "cell_type": "code",
      "metadata": {
        "id": "IVu_dwaLG-y2"
      },
      "source": [
        "js = json.dumps(record)\n",
        "\n",
        "fd = open(\"record.json\",'w')\n",
        "fd.write(js)\n",
        "fd.close()"
      ],
      "execution_count": 18,
      "outputs": []
    },
    {
      "cell_type": "markdown",
      "metadata": {
        "id": "L-F0pMuIJq8L"
      },
      "source": [
        "**Sales JSON**"
      ]
    },
    {
      "cell_type": "code",
      "metadata": {
        "colab": {
          "base_uri": "https://localhost:8080/"
        },
        "id": "lMruThV6GHx7",
        "outputId": "ed262221-2769-459a-9f45-3a7fb1c541bc"
      },
      "source": [
        "{'prod' : ui_prod, 'qn' : ui_quant, 'amount': record[ui_prod]['pr'] * ui_quant}"
      ],
      "execution_count": 19,
      "outputs": [
        {
          "output_type": "execute_result",
          "data": {
            "text/plain": [
              "{'amount': 37500, 'prod': 'B12G4', 'qn': 50}"
            ]
          },
          "metadata": {},
          "execution_count": 19
        }
      ]
    },
    {
      "cell_type": "code",
      "metadata": {
        "id": "zCl3vl3oGpqP"
      },
      "source": [
        "sales = {1 : {'prod' : ui_prod, 'qn' : ui_quant, 'amount': record[ui_prod]['pr'] * ui_quant},\n",
        "         2: {'prod' : ui_prod, 'qn' : ui_quant, 'amount': record[ui_prod]['pr'] * ui_quant},\n",
        "         3 : {'prod' : ui_prod, 'qn' : ui_quant, 'amount': record[ui_prod]['pr'] * ui_quant}}"
      ],
      "execution_count": 30,
      "outputs": []
    },
    {
      "cell_type": "code",
      "metadata": {
        "id": "ovaTjVIBG0TQ"
      },
      "source": [
        "sale = json.dumps(sales)"
      ],
      "execution_count": 27,
      "outputs": []
    }
  ]
}